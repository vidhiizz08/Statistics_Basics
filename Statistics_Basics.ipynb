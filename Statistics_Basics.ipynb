{
  "nbformat": 4,
  "nbformat_minor": 0,
  "metadata": {
    "colab": {
      "provenance": []
    },
    "kernelspec": {
      "name": "python3",
      "display_name": "Python 3"
    },
    "language_info": {
      "name": "python"
    }
  },
  "cells": [
    {
      "cell_type": "markdown",
      "source": [
        "# Theory Questions"
      ],
      "metadata": {
        "id": "Rh74wpb0q1Fd"
      }
    },
    {
      "cell_type": "markdown",
      "source": [
        "Q1 Explain the different types of data (qualitative and quantitative) and provide examples of each. Discuss nominal, ordinal, interval, and ratio scales.\n",
        "\n",
        "- Qualitative Data: Descriptive data (e.g., color, gender).\n",
        " -  Nominal Scale: Categories without a meaningful order (e.g., gender, colors).\n",
        " - Ordinal Scale: Categories with a meaningful order (e.g., rankings, education levels).\n",
        "- Quantitative Data: Numerical data (e.g., height, age).\n",
        " - Interval Scale: Equal intervals but no true zero (e.g., temperature in Celsius).\n",
        " - Ratio Scale: Equal intervals with a true zero (e.g., weight, height).\n",
        "\n",
        "Q2 What are the measures of central tendency, and when should you use each?\n",
        "Discuss the mean, median, and mode with examples and situations where each is appropriate.\n",
        "- Mean: Average value; used for symmetric distributions. Example: Average income.\n",
        "- Median: Middle value; used for skewed distributions. Example: Median house price.\n",
        "- Mode: Most frequent value; used for categorical data. Example: Most common shoe size.\n",
        "Q3 Explain the concept of dispersion. How do variance and standard deviation measure the spread of data?\n",
        "- Dispersion refers to how data values spread around the central value.\n",
        " - Variance: Average squared deviation from the mean.\n",
        " - Standard Deviation: Square root of variance, representing average deviation in original units.\n",
        "\n",
        "Q4 What is a box plot, and what can it tell you about the distribution of data?\n",
        "- A box plot shows the distribution of data using quartiles. It displays the median, interquartile range (IQR), and potential outliers.\n",
        "\n",
        "Q5 Discuss the role of random sampling in making inferences about populations.\n",
        " - Random sampling ensures each individual has an equal chance of selection, reducing bias and allowing generalization of results to the population.\n",
        "\n",
        "Q6 Explain the concept of skewness and its types. How does skewness affect the interpretation of data?\n",
        "\n",
        "- Skewness measures asymmetry in data distribution.\n",
        "  - Positive Skew: Tail on the right; mean > median.\n",
        "  - Negative Skew: Tail on the left; mean < median.\n",
        "  - Skewness affects the choice of central tendency measure.\n",
        "\n",
        "Q7 What is the interquartile range (IQR), and how is it used to detect outliers?\n",
        "- IQR = Q3 - Q1 (difference between 75th and 25th percentiles).\n",
        "Outliers: Values outside [Q1 - 1.5 * IQR, Q3 + 1.5 * IQR].\n",
        "\n",
        "Q8 Discuss the conditions under which the binomial distribution is used.\n",
        "\n",
        "- Fixed number of trials.\n",
        "- Two outcomes (success/failure).\n",
        "- Independent trials.\n",
        "- Constant probability of success.\n",
        "\n",
        "Q9 Explain the properties of the normal distribution and the empirical rule (68-95-99.7 rule).\n",
        "\n",
        "- Symmetrical, bell-shaped curve.\n",
        "- Mean = Median = Mode.\n",
        "- Empirical Rule:\n",
        " - 68% of data within 1 SD.\n",
        " - 95% within 2 SDs.\n",
        " - 99.7% within 3 SDs.\n",
        "\n",
        "Q10Provide a real-life example of a Poisson process and calculate the probability for a specific event.\n",
        "- Example: Number of cars passing a toll booth in an hour.\n",
        "- Formula: P(X=k)\n",
        "(where λ = average rate,k = number of events).\n",
        "\n",
        "Q11 Explain what a random variable is and differentiate between discrete and continuous random variables.\n",
        " - Random Variable: Numerical outcome of a random process.\n",
        "  - Discrete: Countable values (e.g., number of heads in coin tosses).\n",
        "  - Continuous: Infinite values within a range (e.g., height, weight).\n"
      ],
      "metadata": {
        "id": "5j3iIiWYq6wk"
      }
    },
    {
      "cell_type": "code",
      "source": [
        "#Q12 Provide an example dataset, calculate both covariance and correlation, and interpret the results.\n",
        "\n",
        "import numpy as np\n",
        "x = [1, 2, 3, 4]\n",
        "y = [2, 4, 6, 8]\n",
        "covariance = np.cov(x, y)[0][1]\n",
        "correlation = np.corrcoef(x, y)[0][1]\n",
        "print(\"Covariance:\", covariance)\n",
        "print(\"Correlation:\", correlation)\n",
        "#Covariance: Measures the direction of the relationship.\n",
        "#Correlation: Standardized measure of the strength of the relationship."
      ],
      "metadata": {
        "colab": {
          "base_uri": "https://localhost:8080/"
        },
        "id": "ust6exRLuBHB",
        "outputId": "632ef7ab-e5cd-40ee-a7dd-5e9b5bf605db"
      },
      "execution_count": 1,
      "outputs": [
        {
          "output_type": "stream",
          "name": "stdout",
          "text": [
            "Covariance: 3.333333333333333\n",
            "Correlation: 1.0\n"
          ]
        }
      ]
    }
  ]
}